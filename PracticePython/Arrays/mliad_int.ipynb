{
 "cells": [
  {
   "cell_type": "code",
   "execution_count": 3,
   "metadata": {},
   "outputs": [],
   "source": [
    "\n",
    "def find_sum(target, arr):\n",
    "    \n",
    "    index = 0\n",
    "    \n",
    "    ans = list()\n",
    "    sums = {}\n",
    "\n",
    "    for num in arr:\n",
    "        if target-num in sums:\n",
    "            ans.append((num,target-num))\n",
    "        else:\n",
    "            sums[num] = target-num\n",
    "            \n",
    "    return ans"
   ]
  },
  {
   "cell_type": "code",
   "execution_count": 5,
   "metadata": {},
   "outputs": [
    {
     "name": "stdout",
     "output_type": "stream",
     "text": [
      "[(2, 5), (11, -4)]\n"
     ]
    }
   ],
   "source": [
    "print(find_sum(7, [3, 5, 2, -4, 8, 11]))"
   ]
  },
  {
   "cell_type": "code",
   "execution_count": null,
   "metadata": {},
   "outputs": [],
   "source": [
    "def longest_inc_path(matrix, i, j):\n",
    "    \n",
    "    # Iterate over matrix\n",
    "    \n",
    "#         check left\n",
    "        \n",
    "            return longest_inc_path(matrix, i-1, j)\n",
    "\n",
    "        if matrix[i,j-1] > matrix[i, j]:\n",
    "            return longest_inc_path(matrix, i+1 j)\n",
    "\n",
    "#         check down\n",
    "        if matrix[i,j-1] > matrix[i, j]:\n",
    "           return longest_inc_path(matrix, i, j-1)\n",
    "\n",
    "    return longest_inc_path(matrix, i+1, j-1)\n",
    "    \n",
    "\n",
    "    \n",
    "    \n",
    "def find_inc_seq(matrix):\n",
    "    for val in matrix:\n",
    "        \n",
    "        \n",
    "    "
   ]
  }
 ],
 "metadata": {
  "kernelspec": {
   "display_name": "Python 3",
   "language": "python",
   "name": "python3"
  },
  "language_info": {
   "codemirror_mode": {
    "name": "ipython",
    "version": 3
   },
   "file_extension": ".py",
   "mimetype": "text/x-python",
   "name": "python",
   "nbconvert_exporter": "python",
   "pygments_lexer": "ipython3",
   "version": "3.7.1"
  }
 },
 "nbformat": 4,
 "nbformat_minor": 2
}
